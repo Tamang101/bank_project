{
 "cells": [
  {
   "cell_type": "code",
   "execution_count": 5,
   "id": "84a22b4d-1fb8-4b71-bf12-abe71f44e1b2",
   "metadata": {
    "scrolled": true
   },
   "outputs": [],
   "source": [
    "# loading the data \n",
    "data = pd.read_csv('C:/Users/asus/Downloads/Bank_dataset/AggregatedData.csv')"
   ]
  },
  {
   "cell_type": "code",
   "execution_count": 4,
   "id": "2653ae65-be12-4345-9a28-d555d31f4fd9",
   "metadata": {},
   "outputs": [],
   "source": [
    "import pandas as pd"
   ]
  },
  {
   "cell_type": "code",
   "execution_count": 9,
   "id": "48a7f3a7-bca7-4bd8-8160-a85a34160ccc",
   "metadata": {},
   "outputs": [],
   "source": [
    "df = pd.DataFrame(data)"
   ]
  },
  {
   "cell_type": "code",
   "execution_count": 10,
   "id": "0d7b96b3-3eb7-4106-bab6-0c55308a8014",
   "metadata": {},
   "outputs": [
    {
     "data": {
      "text/html": [
       "<div>\n",
       "<style scoped>\n",
       "    .dataframe tbody tr th:only-of-type {\n",
       "        vertical-align: middle;\n",
       "    }\n",
       "\n",
       "    .dataframe tbody tr th {\n",
       "        vertical-align: top;\n",
       "    }\n",
       "\n",
       "    .dataframe thead th {\n",
       "        text-align: right;\n",
       "    }\n",
       "</style>\n",
       "<table border=\"1\" class=\"dataframe\">\n",
       "  <thead>\n",
       "    <tr style=\"text-align: right;\">\n",
       "      <th></th>\n",
       "      <th>ATM Name</th>\n",
       "      <th>Transaction Date</th>\n",
       "      <th>No Of Withdrawals</th>\n",
       "      <th>No Of XYZ Card Withdrawals</th>\n",
       "      <th>No Of Other Card Withdrawals</th>\n",
       "      <th>Total amount Withdrawn</th>\n",
       "      <th>Amount withdrawn XYZ Card</th>\n",
       "      <th>Amount withdrawn Other Card</th>\n",
       "      <th>Weekday</th>\n",
       "      <th>Festival Religion</th>\n",
       "      <th>Working Day</th>\n",
       "      <th>Holiday Sequence</th>\n",
       "    </tr>\n",
       "  </thead>\n",
       "  <tbody>\n",
       "    <tr>\n",
       "      <th>0</th>\n",
       "      <td>Big Street ATM</td>\n",
       "      <td>1/1/2011</td>\n",
       "      <td>50</td>\n",
       "      <td>20</td>\n",
       "      <td>30</td>\n",
       "      <td>123800</td>\n",
       "      <td>41700</td>\n",
       "      <td>82100</td>\n",
       "      <td>Saturday</td>\n",
       "      <td>H</td>\n",
       "      <td>H</td>\n",
       "      <td>WHH</td>\n",
       "    </tr>\n",
       "    <tr>\n",
       "      <th>1</th>\n",
       "      <td>Mount Road ATM</td>\n",
       "      <td>1/1/2011</td>\n",
       "      <td>253</td>\n",
       "      <td>67</td>\n",
       "      <td>186</td>\n",
       "      <td>767900</td>\n",
       "      <td>270900</td>\n",
       "      <td>497000</td>\n",
       "      <td>Saturday</td>\n",
       "      <td>C</td>\n",
       "      <td>H</td>\n",
       "      <td>WHH</td>\n",
       "    </tr>\n",
       "    <tr>\n",
       "      <th>2</th>\n",
       "      <td>Airport ATM</td>\n",
       "      <td>1/1/2011</td>\n",
       "      <td>98</td>\n",
       "      <td>56</td>\n",
       "      <td>42</td>\n",
       "      <td>503400</td>\n",
       "      <td>347700</td>\n",
       "      <td>155700</td>\n",
       "      <td>Saturday</td>\n",
       "      <td>C</td>\n",
       "      <td>H</td>\n",
       "      <td>WHH</td>\n",
       "    </tr>\n",
       "    <tr>\n",
       "      <th>3</th>\n",
       "      <td>KK Nagar ATM</td>\n",
       "      <td>1/1/2011</td>\n",
       "      <td>265</td>\n",
       "      <td>159</td>\n",
       "      <td>106</td>\n",
       "      <td>945300</td>\n",
       "      <td>532600</td>\n",
       "      <td>412700</td>\n",
       "      <td>Saturday</td>\n",
       "      <td>C</td>\n",
       "      <td>H</td>\n",
       "      <td>WHH</td>\n",
       "    </tr>\n",
       "    <tr>\n",
       "      <th>4</th>\n",
       "      <td>Christ College ATM</td>\n",
       "      <td>1/1/2011</td>\n",
       "      <td>74</td>\n",
       "      <td>25</td>\n",
       "      <td>49</td>\n",
       "      <td>287700</td>\n",
       "      <td>148200</td>\n",
       "      <td>139500</td>\n",
       "      <td>Saturday</td>\n",
       "      <td>C</td>\n",
       "      <td>H</td>\n",
       "      <td>WHH</td>\n",
       "    </tr>\n",
       "  </tbody>\n",
       "</table>\n",
       "</div>"
      ],
      "text/plain": [
       "             ATM Name Transaction Date  No Of Withdrawals  \\\n",
       "0      Big Street ATM         1/1/2011                 50   \n",
       "1      Mount Road ATM         1/1/2011                253   \n",
       "2         Airport ATM         1/1/2011                 98   \n",
       "3        KK Nagar ATM         1/1/2011                265   \n",
       "4  Christ College ATM         1/1/2011                 74   \n",
       "\n",
       "   No Of XYZ Card Withdrawals  No Of Other Card Withdrawals  \\\n",
       "0                          20                            30   \n",
       "1                          67                           186   \n",
       "2                          56                            42   \n",
       "3                         159                           106   \n",
       "4                          25                            49   \n",
       "\n",
       "   Total amount Withdrawn  Amount withdrawn XYZ Card  \\\n",
       "0                  123800                      41700   \n",
       "1                  767900                     270900   \n",
       "2                  503400                     347700   \n",
       "3                  945300                     532600   \n",
       "4                  287700                     148200   \n",
       "\n",
       "   Amount withdrawn Other Card   Weekday Festival Religion Working Day  \\\n",
       "0                        82100  Saturday                 H           H   \n",
       "1                       497000  Saturday                 C           H   \n",
       "2                       155700  Saturday                 C           H   \n",
       "3                       412700  Saturday                 C           H   \n",
       "4                       139500  Saturday                 C           H   \n",
       "\n",
       "  Holiday Sequence  \n",
       "0              WHH  \n",
       "1              WHH  \n",
       "2              WHH  \n",
       "3              WHH  \n",
       "4              WHH  "
      ]
     },
     "execution_count": 10,
     "metadata": {},
     "output_type": "execute_result"
    }
   ],
   "source": [
    "df.head()"
   ]
  },
  {
   "cell_type": "code",
   "execution_count": 11,
   "id": "6c87b090-de81-4a04-a2b8-485e6e01f49c",
   "metadata": {},
   "outputs": [
    {
     "name": "stdout",
     "output_type": "stream",
     "text": [
      "<class 'pandas.core.frame.DataFrame'>\n",
      "RangeIndex: 11589 entries, 0 to 11588\n",
      "Data columns (total 12 columns):\n",
      " #   Column                        Non-Null Count  Dtype \n",
      "---  ------                        --------------  ----- \n",
      " 0   ATM Name                      11589 non-null  object\n",
      " 1   Transaction Date              11589 non-null  object\n",
      " 2   No Of Withdrawals             11589 non-null  int64 \n",
      " 3   No Of XYZ Card Withdrawals    11589 non-null  int64 \n",
      " 4   No Of Other Card Withdrawals  11589 non-null  int64 \n",
      " 5   Total amount Withdrawn        11589 non-null  int64 \n",
      " 6   Amount withdrawn XYZ Card     11589 non-null  int64 \n",
      " 7   Amount withdrawn Other Card   11589 non-null  int64 \n",
      " 8   Weekday                       11589 non-null  object\n",
      " 9   Festival Religion             11589 non-null  object\n",
      " 10  Working Day                   11589 non-null  object\n",
      " 11  Holiday Sequence              11589 non-null  object\n",
      "dtypes: int64(6), object(6)\n",
      "memory usage: 1.1+ MB\n"
     ]
    }
   ],
   "source": [
    "df.info()"
   ]
  },
  {
   "cell_type": "code",
   "execution_count": 27,
   "id": "4cbe8e07-94b1-4520-b9b0-fedd59234e7a",
   "metadata": {},
   "outputs": [],
   "source": [
    "# transaction date into proper datetime \n",
    "\n"
   ]
  },
  {
   "cell_type": "code",
   "execution_count": 22,
   "id": "8bda3ac7-362b-46d0-8701-465f3f5ed5ed",
   "metadata": {},
   "outputs": [
    {
     "name": "stdout",
     "output_type": "stream",
     "text": [
      "0    1/1/2011\n",
      "1    1/1/2011\n",
      "2    1/1/2011\n",
      "3    1/1/2011\n",
      "4    1/1/2011\n",
      "Name: Transaction Date, dtype: object\n"
     ]
    }
   ],
   "source": [
    "print(df['Transaction Date'].head())\n"
   ]
  },
  {
   "cell_type": "code",
   "execution_count": 12,
   "id": "d80a4453-e20c-48d7-b81c-7f2272adc47a",
   "metadata": {},
   "outputs": [
    {
     "name": "stdout",
     "output_type": "stream",
     "text": [
      "object\n"
     ]
    }
   ],
   "source": [
    "print(df['Transaction Date'].dtype)\n"
   ]
  },
  {
   "cell_type": "code",
   "execution_count": 13,
   "id": "caa28da8-0272-4eab-aa5b-7c31b37434fa",
   "metadata": {},
   "outputs": [],
   "source": [
    "\n",
    "df['Transaction Date'] = pd.to_datetime(df['Transaction Date'], format ='%d/%m/%Y', errors = 'coerce')"
   ]
  },
  {
   "cell_type": "code",
   "execution_count": 14,
   "id": "1f5d4dc3-cacf-4cdc-af6e-822b77eb1f60",
   "metadata": {},
   "outputs": [
    {
     "name": "stdout",
     "output_type": "stream",
     "text": [
      "0   2011-01-01\n",
      "1   2011-01-01\n",
      "2   2011-01-01\n",
      "3   2011-01-01\n",
      "4   2011-01-01\n",
      "Name: Transaction Date, dtype: datetime64[ns]\n"
     ]
    }
   ],
   "source": [
    "print(df['Transaction Date'].head())\n"
   ]
  },
  {
   "cell_type": "code",
   "execution_count": 29,
   "id": "1f91a48d-c79d-4f02-9793-23492670adce",
   "metadata": {},
   "outputs": [
    {
     "data": {
      "text/html": [
       "<div>\n",
       "<style scoped>\n",
       "    .dataframe tbody tr th:only-of-type {\n",
       "        vertical-align: middle;\n",
       "    }\n",
       "\n",
       "    .dataframe tbody tr th {\n",
       "        vertical-align: top;\n",
       "    }\n",
       "\n",
       "    .dataframe thead th {\n",
       "        text-align: right;\n",
       "    }\n",
       "</style>\n",
       "<table border=\"1\" class=\"dataframe\">\n",
       "  <thead>\n",
       "    <tr style=\"text-align: right;\">\n",
       "      <th></th>\n",
       "      <th>ATM Name</th>\n",
       "      <th>Transaction Date</th>\n",
       "      <th>No Of Withdrawals</th>\n",
       "      <th>No Of XYZ Card Withdrawals</th>\n",
       "      <th>No Of Other Card Withdrawals</th>\n",
       "      <th>Total amount Withdrawn</th>\n",
       "      <th>Amount withdrawn XYZ Card</th>\n",
       "      <th>Amount withdrawn Other Card</th>\n",
       "      <th>Weekday</th>\n",
       "      <th>Festival Religion</th>\n",
       "      <th>Working Day</th>\n",
       "      <th>Holiday Sequence</th>\n",
       "    </tr>\n",
       "  </thead>\n",
       "  <tbody>\n",
       "    <tr>\n",
       "      <th>60</th>\n",
       "      <td>Big Street ATM</td>\n",
       "      <td>NaT</td>\n",
       "      <td>22</td>\n",
       "      <td>12</td>\n",
       "      <td>10</td>\n",
       "      <td>81200</td>\n",
       "      <td>53600</td>\n",
       "      <td>27600</td>\n",
       "      <td>Thursday</td>\n",
       "      <td>NH</td>\n",
       "      <td>W</td>\n",
       "      <td>WWW</td>\n",
       "    </tr>\n",
       "    <tr>\n",
       "      <th>61</th>\n",
       "      <td>Mount Road ATM</td>\n",
       "      <td>NaT</td>\n",
       "      <td>184</td>\n",
       "      <td>93</td>\n",
       "      <td>91</td>\n",
       "      <td>506300</td>\n",
       "      <td>323100</td>\n",
       "      <td>183200</td>\n",
       "      <td>Thursday</td>\n",
       "      <td>NH</td>\n",
       "      <td>W</td>\n",
       "      <td>WWW</td>\n",
       "    </tr>\n",
       "    <tr>\n",
       "      <th>62</th>\n",
       "      <td>Airport ATM</td>\n",
       "      <td>NaT</td>\n",
       "      <td>103</td>\n",
       "      <td>81</td>\n",
       "      <td>22</td>\n",
       "      <td>411700</td>\n",
       "      <td>356500</td>\n",
       "      <td>55200</td>\n",
       "      <td>Thursday</td>\n",
       "      <td>NH</td>\n",
       "      <td>W</td>\n",
       "      <td>WWW</td>\n",
       "    </tr>\n",
       "    <tr>\n",
       "      <th>63</th>\n",
       "      <td>KK Nagar ATM</td>\n",
       "      <td>NaT</td>\n",
       "      <td>223</td>\n",
       "      <td>179</td>\n",
       "      <td>44</td>\n",
       "      <td>771400</td>\n",
       "      <td>649500</td>\n",
       "      <td>121900</td>\n",
       "      <td>Thursday</td>\n",
       "      <td>NH</td>\n",
       "      <td>W</td>\n",
       "      <td>WWW</td>\n",
       "    </tr>\n",
       "    <tr>\n",
       "      <th>64</th>\n",
       "      <td>Christ College ATM</td>\n",
       "      <td>NaT</td>\n",
       "      <td>143</td>\n",
       "      <td>52</td>\n",
       "      <td>91</td>\n",
       "      <td>510300</td>\n",
       "      <td>232700</td>\n",
       "      <td>277600</td>\n",
       "      <td>Thursday</td>\n",
       "      <td>NH</td>\n",
       "      <td>W</td>\n",
       "      <td>WWW</td>\n",
       "    </tr>\n",
       "  </tbody>\n",
       "</table>\n",
       "</div>"
      ],
      "text/plain": [
       "              ATM Name Transaction Date  No Of Withdrawals  \\\n",
       "60      Big Street ATM              NaT                 22   \n",
       "61      Mount Road ATM              NaT                184   \n",
       "62         Airport ATM              NaT                103   \n",
       "63        KK Nagar ATM              NaT                223   \n",
       "64  Christ College ATM              NaT                143   \n",
       "\n",
       "    No Of XYZ Card Withdrawals  No Of Other Card Withdrawals  \\\n",
       "60                          12                            10   \n",
       "61                          93                            91   \n",
       "62                          81                            22   \n",
       "63                         179                            44   \n",
       "64                          52                            91   \n",
       "\n",
       "    Total amount Withdrawn  Amount withdrawn XYZ Card  \\\n",
       "60                   81200                      53600   \n",
       "61                  506300                     323100   \n",
       "62                  411700                     356500   \n",
       "63                  771400                     649500   \n",
       "64                  510300                     232700   \n",
       "\n",
       "    Amount withdrawn Other Card   Weekday Festival Religion Working Day  \\\n",
       "60                        27600  Thursday                NH           W   \n",
       "61                       183200  Thursday                NH           W   \n",
       "62                        55200  Thursday                NH           W   \n",
       "63                       121900  Thursday                NH           W   \n",
       "64                       277600  Thursday                NH           W   \n",
       "\n",
       "   Holiday Sequence  \n",
       "60              WWW  \n",
       "61              WWW  \n",
       "62              WWW  \n",
       "63              WWW  \n",
       "64              WWW  "
      ]
     },
     "execution_count": 29,
     "metadata": {},
     "output_type": "execute_result"
    }
   ],
   "source": [
    "# check NAT \n",
    "df[df['Transaction Date'].isna()].head()\n"
   ]
  },
  {
   "cell_type": "code",
   "execution_count": 15,
   "id": "e7b3628f-e4b1-4860-ba7c-f3fdaa9953b3",
   "metadata": {},
   "outputs": [
    {
     "data": {
      "text/plain": [
       "0    H\n",
       "1    H\n",
       "2    H\n",
       "3    H\n",
       "4    H\n",
       "Name: Working Day, dtype: object"
      ]
     },
     "execution_count": 15,
     "metadata": {},
     "output_type": "execute_result"
    }
   ],
   "source": [
    "# changing working day into boolean vaue rather than H and N\n",
    "df['Working Day'].head()"
   ]
  },
  {
   "cell_type": "code",
   "execution_count": 16,
   "id": "bf89d12b-ba93-437c-96c0-0d6d8c6febc2",
   "metadata": {},
   "outputs": [],
   "source": [
    "df['Working Day'] = df['Working Day'].map({'H': True, 'N': False})"
   ]
  },
  {
   "cell_type": "code",
   "execution_count": 17,
   "id": "1a6546cd-4544-4c4d-9dc8-69d64981d406",
   "metadata": {},
   "outputs": [
    {
     "data": {
      "text/plain": [
       "0    True\n",
       "1    True\n",
       "2    True\n",
       "3    True\n",
       "4    True\n",
       "Name: Working Day, dtype: object"
      ]
     },
     "execution_count": 17,
     "metadata": {},
     "output_type": "execute_result"
    }
   ],
   "source": [
    "df['Working Day'].head()"
   ]
  },
  {
   "cell_type": "code",
   "execution_count": 18,
   "id": "48f4220a-7068-4268-b564-2eabce0dd340",
   "metadata": {},
   "outputs": [],
   "source": [
    "bad_rows = df[df['Transaction Date'].isna()]\n"
   ]
  },
  {
   "cell_type": "code",
   "execution_count": 19,
   "id": "d3335025-dfa9-40f9-8ee5-638008b1b7fc",
   "metadata": {},
   "outputs": [
    {
     "name": "stdout",
     "output_type": "stream",
     "text": [
      "60      NaT\n",
      "61      NaT\n",
      "62      NaT\n",
      "63      NaT\n",
      "64      NaT\n",
      "         ..\n",
      "11584   NaT\n",
      "11585   NaT\n",
      "11586   NaT\n",
      "11587   NaT\n",
      "11588   NaT\n",
      "Name: Transaction Date, Length: 7032, dtype: datetime64[ns]\n"
     ]
    }
   ],
   "source": [
    "print(bad_rows['Transaction Date'])\n"
   ]
  },
  {
   "cell_type": "code",
   "execution_count": 20,
   "id": "a9a7b599-5669-4798-9367-491596a7a7b1",
   "metadata": {},
   "outputs": [],
   "source": [
    "df['Transaction Date'] = pd.to_datetime(df['Transaction Date'], format='%m/%d/%Y', errors='coerce')\n"
   ]
  },
  {
   "cell_type": "code",
   "execution_count": 46,
   "id": "e3cc6acf-52e4-442b-91f7-8731813b8177",
   "metadata": {},
   "outputs": [
    {
     "name": "stdout",
     "output_type": "stream",
     "text": [
      "0       2011-01-01\n",
      "1       2011-01-01\n",
      "2       2011-01-01\n",
      "3       2011-01-01\n",
      "4       2011-01-01\n",
      "           ...    \n",
      "11584          NaT\n",
      "11585          NaT\n",
      "11586          NaT\n",
      "11587          NaT\n",
      "11588          NaT\n",
      "Name: Transaction Date, Length: 11589, dtype: datetime64[ns]\n"
     ]
    }
   ],
   "source": []
  },
  {
   "cell_type": "code",
   "execution_count": 21,
   "id": "47571029-169d-4270-ba26-f0eac590688b",
   "metadata": {},
   "outputs": [
    {
     "data": {
      "text/plain": [
       "7032"
      ]
     },
     "execution_count": 21,
     "metadata": {},
     "output_type": "execute_result"
    }
   ],
   "source": [
    "# checking sum of isna in transactions date column\n",
    "\n",
    "df['Transaction Date'].isna().sum()\n"
   ]
  },
  {
   "cell_type": "code",
   "execution_count": 22,
   "id": "ae981935-30ca-45d8-9526-4ce513de0804",
   "metadata": {},
   "outputs": [],
   "source": [
    "df = df.dropna(subset=['Transaction Date'])"
   ]
  },
  {
   "cell_type": "code",
   "execution_count": 23,
   "id": "28762e9f-0c18-43cb-ad4e-0027958f9232",
   "metadata": {},
   "outputs": [
    {
     "data": {
      "text/plain": [
       "0"
      ]
     },
     "execution_count": 23,
     "metadata": {},
     "output_type": "execute_result"
    }
   ],
   "source": [
    "df['Transaction Date'].isna().sum()\n"
   ]
  },
  {
   "cell_type": "code",
   "execution_count": 24,
   "id": "815d2a27-034b-489d-811a-bdfa3df28509",
   "metadata": {},
   "outputs": [],
   "source": [
    "# Sorting by Transaction Date\n",
    "df = df.sort_values('Transaction Date')"
   ]
  },
  {
   "cell_type": "code",
   "execution_count": null,
   "id": "b8d05512-a616-4b71-9ff8-958d55849923",
   "metadata": {},
   "outputs": [],
   "source": [
    "# daily withdrwals "
   ]
  },
  {
   "cell_type": "code",
   "execution_count": 25,
   "id": "b5ac4627-86c4-456f-8e7f-d841a66d605d",
   "metadata": {},
   "outputs": [
    {
     "name": "stdout",
     "output_type": "stream",
     "text": [
      "Transaction Date\n",
      "2011-01-01    2628100\n",
      "2011-01-02    1960100\n",
      "2011-01-03    3445000\n",
      "2011-01-04    3206000\n",
      "2011-01-05    2728900\n",
      "               ...   \n",
      "2017-09-08    2563300\n",
      "2017-09-09    3392000\n",
      "2017-09-10    1296900\n",
      "2017-09-11    3095800\n",
      "2017-09-12    2742400\n",
      "Name: Total amount Withdrawn, Length: 960, dtype: int64\n"
     ]
    }
   ],
   "source": [
    "df_daily = df.groupby('Transaction Date')['Total amount Withdrawn'].sum()\n",
    "print(df_daily)"
   ]
  },
  {
   "cell_type": "code",
   "execution_count": 58,
   "id": "8c417a26-21a8-4b89-ab8d-3d160d450a55",
   "metadata": {},
   "outputs": [
    {
     "name": "stdout",
     "output_type": "stream",
     "text": [
      "YearMonth\n",
      "2011-01    30468200\n",
      "2011-02    29470800\n",
      "2011-03    30434900\n",
      "2011-04    28292900\n",
      "2011-05    28300400\n",
      "Freq: M, Name: Total amount Withdrawn, dtype: int64\n"
     ]
    }
   ],
   "source": [
    "# Monthly Trends\n",
    "df['YearMonth'] = df['Transaction Date'].dt.to_period('M')\n",
    "df_monthy = df.groupby('YearMonth')['Total amount Withdrawn'].sum() as ')['Total amount Withdrawn\n",
    "print(df_monthy.head())"
   ]
  },
  {
   "cell_type": "code",
   "execution_count": 26,
   "id": "72fc69ac-fbe8-42a2-966d-4212e283a548",
   "metadata": {},
   "outputs": [],
   "source": [
    "# Weekday Patterns\n",
    "\n",
    "df['weekday'] = df['Transaction Date'].dt.day_name()"
   ]
  },
  {
   "cell_type": "code",
   "execution_count": 27,
   "id": "30f06c27-cb4e-4305-bd13-c7669019c388",
   "metadata": {},
   "outputs": [
    {
     "data": {
      "text/plain": [
       "weekday\n",
       "Sunday       434596.529968\n",
       "Friday       580843.276662\n",
       "Tuesday      609992.878788\n",
       "Thursday     618996.159754\n",
       "Monday       620728.987730\n",
       "Wednesday    651686.666667\n",
       "Saturday     669032.924962\n",
       "Name: Total amount Withdrawn, dtype: float64"
      ]
     },
     "execution_count": 27,
     "metadata": {},
     "output_type": "execute_result"
    }
   ],
   "source": [
    "df.groupby('weekday')['Total amount Withdrawn'].mean().sort_values()"
   ]
  },
  {
   "cell_type": "code",
   "execution_count": 61,
   "id": "406c2275-52e3-4021-861f-a105eaedf474",
   "metadata": {},
   "outputs": [
    {
     "data": {
      "text/html": [
       "<div>\n",
       "<style scoped>\n",
       "    .dataframe tbody tr th:only-of-type {\n",
       "        vertical-align: middle;\n",
       "    }\n",
       "\n",
       "    .dataframe tbody tr th {\n",
       "        vertical-align: top;\n",
       "    }\n",
       "\n",
       "    .dataframe thead th {\n",
       "        text-align: right;\n",
       "    }\n",
       "</style>\n",
       "<table border=\"1\" class=\"dataframe\">\n",
       "  <thead>\n",
       "    <tr style=\"text-align: right;\">\n",
       "      <th></th>\n",
       "      <th>ATM Name</th>\n",
       "      <th>Transaction Date</th>\n",
       "      <th>No Of Withdrawals</th>\n",
       "      <th>No Of XYZ Card Withdrawals</th>\n",
       "      <th>No Of Other Card Withdrawals</th>\n",
       "      <th>Total amount Withdrawn</th>\n",
       "      <th>Amount withdrawn XYZ Card</th>\n",
       "      <th>Amount withdrawn Other Card</th>\n",
       "      <th>Weekday</th>\n",
       "      <th>Festival Religion</th>\n",
       "      <th>Working Day</th>\n",
       "      <th>Holiday Sequence</th>\n",
       "      <th>Working Day\\t</th>\n",
       "      <th>YearMonth</th>\n",
       "      <th>weekday</th>\n",
       "    </tr>\n",
       "  </thead>\n",
       "  <tbody>\n",
       "    <tr>\n",
       "      <th>0</th>\n",
       "      <td>Big Street ATM</td>\n",
       "      <td>2011-01-01</td>\n",
       "      <td>50</td>\n",
       "      <td>20</td>\n",
       "      <td>30</td>\n",
       "      <td>123800</td>\n",
       "      <td>41700</td>\n",
       "      <td>82100</td>\n",
       "      <td>Saturday</td>\n",
       "      <td>H</td>\n",
       "      <td>True</td>\n",
       "      <td>WHH</td>\n",
       "      <td>True</td>\n",
       "      <td>2011-01</td>\n",
       "      <td>Saturday</td>\n",
       "    </tr>\n",
       "    <tr>\n",
       "      <th>1</th>\n",
       "      <td>Mount Road ATM</td>\n",
       "      <td>2011-01-01</td>\n",
       "      <td>253</td>\n",
       "      <td>67</td>\n",
       "      <td>186</td>\n",
       "      <td>767900</td>\n",
       "      <td>270900</td>\n",
       "      <td>497000</td>\n",
       "      <td>Saturday</td>\n",
       "      <td>C</td>\n",
       "      <td>True</td>\n",
       "      <td>WHH</td>\n",
       "      <td>True</td>\n",
       "      <td>2011-01</td>\n",
       "      <td>Saturday</td>\n",
       "    </tr>\n",
       "    <tr>\n",
       "      <th>2</th>\n",
       "      <td>Airport ATM</td>\n",
       "      <td>2011-01-01</td>\n",
       "      <td>98</td>\n",
       "      <td>56</td>\n",
       "      <td>42</td>\n",
       "      <td>503400</td>\n",
       "      <td>347700</td>\n",
       "      <td>155700</td>\n",
       "      <td>Saturday</td>\n",
       "      <td>C</td>\n",
       "      <td>True</td>\n",
       "      <td>WHH</td>\n",
       "      <td>True</td>\n",
       "      <td>2011-01</td>\n",
       "      <td>Saturday</td>\n",
       "    </tr>\n",
       "    <tr>\n",
       "      <th>3</th>\n",
       "      <td>KK Nagar ATM</td>\n",
       "      <td>2011-01-01</td>\n",
       "      <td>265</td>\n",
       "      <td>159</td>\n",
       "      <td>106</td>\n",
       "      <td>945300</td>\n",
       "      <td>532600</td>\n",
       "      <td>412700</td>\n",
       "      <td>Saturday</td>\n",
       "      <td>C</td>\n",
       "      <td>True</td>\n",
       "      <td>WHH</td>\n",
       "      <td>True</td>\n",
       "      <td>2011-01</td>\n",
       "      <td>Saturday</td>\n",
       "    </tr>\n",
       "    <tr>\n",
       "      <th>4</th>\n",
       "      <td>Christ College ATM</td>\n",
       "      <td>2011-01-01</td>\n",
       "      <td>74</td>\n",
       "      <td>25</td>\n",
       "      <td>49</td>\n",
       "      <td>287700</td>\n",
       "      <td>148200</td>\n",
       "      <td>139500</td>\n",
       "      <td>Saturday</td>\n",
       "      <td>C</td>\n",
       "      <td>True</td>\n",
       "      <td>WHH</td>\n",
       "      <td>True</td>\n",
       "      <td>2011-01</td>\n",
       "      <td>Saturday</td>\n",
       "    </tr>\n",
       "  </tbody>\n",
       "</table>\n",
       "</div>"
      ],
      "text/plain": [
       "             ATM Name Transaction Date  No Of Withdrawals  \\\n",
       "0      Big Street ATM       2011-01-01                 50   \n",
       "1      Mount Road ATM       2011-01-01                253   \n",
       "2         Airport ATM       2011-01-01                 98   \n",
       "3        KK Nagar ATM       2011-01-01                265   \n",
       "4  Christ College ATM       2011-01-01                 74   \n",
       "\n",
       "   No Of XYZ Card Withdrawals  No Of Other Card Withdrawals  \\\n",
       "0                          20                            30   \n",
       "1                          67                           186   \n",
       "2                          56                            42   \n",
       "3                         159                           106   \n",
       "4                          25                            49   \n",
       "\n",
       "   Total amount Withdrawn  Amount withdrawn XYZ Card  \\\n",
       "0                  123800                      41700   \n",
       "1                  767900                     270900   \n",
       "2                  503400                     347700   \n",
       "3                  945300                     532600   \n",
       "4                  287700                     148200   \n",
       "\n",
       "   Amount withdrawn Other Card   Weekday Festival Religion Working Day  \\\n",
       "0                        82100  Saturday                 H        True   \n",
       "1                       497000  Saturday                 C        True   \n",
       "2                       155700  Saturday                 C        True   \n",
       "3                       412700  Saturday                 C        True   \n",
       "4                       139500  Saturday                 C        True   \n",
       "\n",
       "  Holiday Sequence Working Day\\t YearMonth   weekday  \n",
       "0              WHH          True   2011-01  Saturday  \n",
       "1              WHH          True   2011-01  Saturday  \n",
       "2              WHH          True   2011-01  Saturday  \n",
       "3              WHH          True   2011-01  Saturday  \n",
       "4              WHH          True   2011-01  Saturday  "
      ]
     },
     "execution_count": 61,
     "metadata": {},
     "output_type": "execute_result"
    }
   ],
   "source": [
    "df.head()"
   ]
  },
  {
   "cell_type": "code",
   "execution_count": 28,
   "id": "86dd3842-5a87-47b0-b9ea-97ceb709d1f8",
   "metadata": {},
   "outputs": [
    {
     "data": {
      "text/plain": [
       "array(['H', 'C', 'NH', 'N', 'M'], dtype=object)"
      ]
     },
     "execution_count": 28,
     "metadata": {},
     "output_type": "execute_result"
    }
   ],
   "source": [
    "# unique values in festivals\n",
    "\n",
    "df['Festival Religion'].unique()\n"
   ]
  },
  {
   "cell_type": "code",
   "execution_count": 29,
   "id": "a1b12215-16b4-4ecc-a4a9-5d79ab020223",
   "metadata": {},
   "outputs": [],
   "source": [
    "# making more readable the festivlas abbrivations \n",
    "\n",
    "df['Festival Religion'] = df['Festival Religion'].map({'H': 'Hindu_festival','C':'Christain_festival','NH':'National_holiday',\n",
    "                                                        'N': 'Normal_Day','M':'Muslim_festivals'})"
   ]
  },
  {
   "cell_type": "code",
   "execution_count": 30,
   "id": "3844aedd-7d1e-4c3b-902b-8882d3806d5e",
   "metadata": {},
   "outputs": [
    {
     "data": {
      "text/plain": [
       "0        Hindu_festival\n",
       "1    Christain_festival\n",
       "2    Christain_festival\n",
       "3    Christain_festival\n",
       "4    Christain_festival\n",
       "Name: Festival Religion, dtype: object"
      ]
     },
     "execution_count": 30,
     "metadata": {},
     "output_type": "execute_result"
    }
   ],
   "source": [
    "df['Festival Religion'].head()"
   ]
  },
  {
   "cell_type": "code",
   "execution_count": 31,
   "id": "b85d6af5-bf91-4ce5-94f2-ef98fde91a4e",
   "metadata": {},
   "outputs": [
    {
     "data": {
      "text/plain": [
       "array(['Hindu_festival', 'Christain_festival', 'National_holiday',\n",
       "       'Normal_Day', 'Muslim_festivals'], dtype=object)"
      ]
     },
     "execution_count": 31,
     "metadata": {},
     "output_type": "execute_result"
    }
   ],
   "source": [
    "df['Festival Religion'].unique()\n"
   ]
  },
  {
   "cell_type": "code",
   "execution_count": 32,
   "id": "e14162b5-2e42-4980-8bf5-4e836eae3633",
   "metadata": {},
   "outputs": [
    {
     "data": {
      "text/plain": [
       "0"
      ]
     },
     "execution_count": 32,
     "metadata": {},
     "output_type": "execute_result"
    }
   ],
   "source": [
    "# checking if any null values there \n",
    "df['No Of XYZ Card Withdrawals'].isna().sum()"
   ]
  },
  {
   "cell_type": "raw",
   "id": "2c2f0590-af67-4a62-a727-57d50ca18166",
   "metadata": {},
   "source": [
    " df['No Of Other Card Withdrawals'].isna().sum()"
   ]
  },
  {
   "cell_type": "code",
   "execution_count": null,
   "id": "b735b635-42da-4aee-a867-6267c5799392",
   "metadata": {},
   "outputs": [],
   "source": []
  },
  {
   "cell_type": "code",
   "execution_count": 38,
   "id": "04a71e67-2c9c-4994-ad4a-ac1a1a6d3043",
   "metadata": {},
   "outputs": [],
   "source": [
    "# xyz card vs other cards\n",
    "\n",
    "df['net_xyz_vs_other_card'] = df['No Of XYZ Card Withdrawals'] - df['No Of Other Card Withdrawals']"
   ]
  },
  {
   "cell_type": "code",
   "execution_count": 39,
   "id": "470f696d-7e0e-45f8-89dd-b6c2ca1679b2",
   "metadata": {},
   "outputs": [
    {
     "data": {
      "text/plain": [
       "0    -10\n",
       "1   -119\n",
       "2     14\n",
       "3     53\n",
       "4    -24\n",
       "Name: net_xyz_vs_other_card, dtype: int64"
      ]
     },
     "execution_count": 39,
     "metadata": {},
     "output_type": "execute_result"
    }
   ],
   "source": [
    "df['net_xyz_vs_other_card'].head()"
   ]
  },
  {
   "cell_type": "code",
   "execution_count": 45,
   "id": "4f64da45-1c63-495a-9650-33ba509b75d5",
   "metadata": {},
   "outputs": [
    {
     "data": {
      "text/html": [
       "<div>\n",
       "<style scoped>\n",
       "    .dataframe tbody tr th:only-of-type {\n",
       "        vertical-align: middle;\n",
       "    }\n",
       "\n",
       "    .dataframe tbody tr th {\n",
       "        vertical-align: top;\n",
       "    }\n",
       "\n",
       "    .dataframe thead th {\n",
       "        text-align: right;\n",
       "    }\n",
       "</style>\n",
       "<table border=\"1\" class=\"dataframe\">\n",
       "  <thead>\n",
       "    <tr style=\"text-align: right;\">\n",
       "      <th></th>\n",
       "      <th>ATM Name</th>\n",
       "      <th>Transaction Date</th>\n",
       "      <th>No Of Withdrawals</th>\n",
       "      <th>No Of XYZ Card Withdrawals</th>\n",
       "      <th>No Of Other Card Withdrawals</th>\n",
       "      <th>Total amount Withdrawn</th>\n",
       "      <th>Amount withdrawn XYZ Card</th>\n",
       "      <th>Amount withdrawn Other Card</th>\n",
       "      <th>Weekday</th>\n",
       "      <th>Festival Religion</th>\n",
       "      <th>Working Day</th>\n",
       "      <th>Holiday Sequence</th>\n",
       "      <th>weekday</th>\n",
       "      <th>net_xyz_vs_</th>\n",
       "      <th>net_xyz_vs_other_card</th>\n",
       "    </tr>\n",
       "  </thead>\n",
       "  <tbody>\n",
       "    <tr>\n",
       "      <th>0</th>\n",
       "      <td>Big Street ATM</td>\n",
       "      <td>2011-01-01</td>\n",
       "      <td>50</td>\n",
       "      <td>20</td>\n",
       "      <td>30</td>\n",
       "      <td>123800</td>\n",
       "      <td>41700</td>\n",
       "      <td>82100</td>\n",
       "      <td>Saturday</td>\n",
       "      <td>Hindu_festival</td>\n",
       "      <td>True</td>\n",
       "      <td>WHH</td>\n",
       "      <td>Saturday</td>\n",
       "      <td>-10</td>\n",
       "      <td>-10</td>\n",
       "    </tr>\n",
       "    <tr>\n",
       "      <th>1</th>\n",
       "      <td>Mount Road ATM</td>\n",
       "      <td>2011-01-01</td>\n",
       "      <td>253</td>\n",
       "      <td>67</td>\n",
       "      <td>186</td>\n",
       "      <td>767900</td>\n",
       "      <td>270900</td>\n",
       "      <td>497000</td>\n",
       "      <td>Saturday</td>\n",
       "      <td>Christain_festival</td>\n",
       "      <td>True</td>\n",
       "      <td>WHH</td>\n",
       "      <td>Saturday</td>\n",
       "      <td>-119</td>\n",
       "      <td>-119</td>\n",
       "    </tr>\n",
       "    <tr>\n",
       "      <th>2</th>\n",
       "      <td>Airport ATM</td>\n",
       "      <td>2011-01-01</td>\n",
       "      <td>98</td>\n",
       "      <td>56</td>\n",
       "      <td>42</td>\n",
       "      <td>503400</td>\n",
       "      <td>347700</td>\n",
       "      <td>155700</td>\n",
       "      <td>Saturday</td>\n",
       "      <td>Christain_festival</td>\n",
       "      <td>True</td>\n",
       "      <td>WHH</td>\n",
       "      <td>Saturday</td>\n",
       "      <td>14</td>\n",
       "      <td>14</td>\n",
       "    </tr>\n",
       "    <tr>\n",
       "      <th>3</th>\n",
       "      <td>KK Nagar ATM</td>\n",
       "      <td>2011-01-01</td>\n",
       "      <td>265</td>\n",
       "      <td>159</td>\n",
       "      <td>106</td>\n",
       "      <td>945300</td>\n",
       "      <td>532600</td>\n",
       "      <td>412700</td>\n",
       "      <td>Saturday</td>\n",
       "      <td>Christain_festival</td>\n",
       "      <td>True</td>\n",
       "      <td>WHH</td>\n",
       "      <td>Saturday</td>\n",
       "      <td>53</td>\n",
       "      <td>53</td>\n",
       "    </tr>\n",
       "    <tr>\n",
       "      <th>4</th>\n",
       "      <td>Christ College ATM</td>\n",
       "      <td>2011-01-01</td>\n",
       "      <td>74</td>\n",
       "      <td>25</td>\n",
       "      <td>49</td>\n",
       "      <td>287700</td>\n",
       "      <td>148200</td>\n",
       "      <td>139500</td>\n",
       "      <td>Saturday</td>\n",
       "      <td>Christain_festival</td>\n",
       "      <td>True</td>\n",
       "      <td>WHH</td>\n",
       "      <td>Saturday</td>\n",
       "      <td>-24</td>\n",
       "      <td>-24</td>\n",
       "    </tr>\n",
       "  </tbody>\n",
       "</table>\n",
       "</div>"
      ],
      "text/plain": [
       "             ATM Name Transaction Date  No Of Withdrawals  \\\n",
       "0      Big Street ATM       2011-01-01                 50   \n",
       "1      Mount Road ATM       2011-01-01                253   \n",
       "2         Airport ATM       2011-01-01                 98   \n",
       "3        KK Nagar ATM       2011-01-01                265   \n",
       "4  Christ College ATM       2011-01-01                 74   \n",
       "\n",
       "   No Of XYZ Card Withdrawals  No Of Other Card Withdrawals  \\\n",
       "0                          20                            30   \n",
       "1                          67                           186   \n",
       "2                          56                            42   \n",
       "3                         159                           106   \n",
       "4                          25                            49   \n",
       "\n",
       "   Total amount Withdrawn  Amount withdrawn XYZ Card  \\\n",
       "0                  123800                      41700   \n",
       "1                  767900                     270900   \n",
       "2                  503400                     347700   \n",
       "3                  945300                     532600   \n",
       "4                  287700                     148200   \n",
       "\n",
       "   Amount withdrawn Other Card   Weekday   Festival Religion Working Day  \\\n",
       "0                        82100  Saturday      Hindu_festival        True   \n",
       "1                       497000  Saturday  Christain_festival        True   \n",
       "2                       155700  Saturday  Christain_festival        True   \n",
       "3                       412700  Saturday  Christain_festival        True   \n",
       "4                       139500  Saturday  Christain_festival        True   \n",
       "\n",
       "  Holiday Sequence   weekday  net_xyz_vs_  net_xyz_vs_other_card  \n",
       "0              WHH  Saturday          -10                    -10  \n",
       "1              WHH  Saturday         -119                   -119  \n",
       "2              WHH  Saturday           14                     14  \n",
       "3              WHH  Saturday           53                     53  \n",
       "4              WHH  Saturday          -24                    -24  "
      ]
     },
     "execution_count": 45,
     "metadata": {},
     "output_type": "execute_result"
    }
   ],
   "source": [
    "# Analyze trends:\n",
    "df.head()"
   ]
  },
  {
   "cell_type": "code",
   "execution_count": 44,
   "id": "89a49152-7b3d-49c5-90f6-405267c9d301",
   "metadata": {},
   "outputs": [
    {
     "ename": "KeyError",
     "evalue": "'YearMonth'",
     "output_type": "error",
     "traceback": [
      "\u001b[1;31m---------------------------------------------------------------------------\u001b[0m",
      "\u001b[1;31mKeyError\u001b[0m                                  Traceback (most recent call last)",
      "Cell \u001b[1;32mIn[44], line 1\u001b[0m\n\u001b[1;32m----> 1\u001b[0m df\u001b[38;5;241m.\u001b[39mgroupby(\u001b[38;5;124m'\u001b[39m\u001b[38;5;124mYearMonth\u001b[39m\u001b[38;5;124m'\u001b[39m)[\u001b[38;5;124m'\u001b[39m\u001b[38;5;124mnet_xyz_vs_other_card\u001b[39m\u001b[38;5;124m'\u001b[39m]\u001b[38;5;241m.\u001b[39msum()\u001b[38;5;241m.\u001b[39mplot(kind\u001b[38;5;241m=\u001b[39m\u001b[38;5;124m'\u001b[39m\u001b[38;5;124mbar\u001b[39m\u001b[38;5;124m'\u001b[39m)\n",
      "File \u001b[1;32m~\\anaconda3\\Lib\\site-packages\\pandas\\core\\frame.py:8869\u001b[0m, in \u001b[0;36mDataFrame.groupby\u001b[1;34m(self, by, axis, level, as_index, sort, group_keys, observed, dropna)\u001b[0m\n\u001b[0;32m   8866\u001b[0m \u001b[38;5;28;01mif\u001b[39;00m level \u001b[38;5;129;01mis\u001b[39;00m \u001b[38;5;28;01mNone\u001b[39;00m \u001b[38;5;129;01mand\u001b[39;00m by \u001b[38;5;129;01mis\u001b[39;00m \u001b[38;5;28;01mNone\u001b[39;00m:\n\u001b[0;32m   8867\u001b[0m     \u001b[38;5;28;01mraise\u001b[39;00m \u001b[38;5;167;01mTypeError\u001b[39;00m(\u001b[38;5;124m\"\u001b[39m\u001b[38;5;124mYou have to supply one of \u001b[39m\u001b[38;5;124m'\u001b[39m\u001b[38;5;124mby\u001b[39m\u001b[38;5;124m'\u001b[39m\u001b[38;5;124m and \u001b[39m\u001b[38;5;124m'\u001b[39m\u001b[38;5;124mlevel\u001b[39m\u001b[38;5;124m'\u001b[39m\u001b[38;5;124m\"\u001b[39m)\n\u001b[1;32m-> 8869\u001b[0m \u001b[38;5;28;01mreturn\u001b[39;00m DataFrameGroupBy(\n\u001b[0;32m   8870\u001b[0m     obj\u001b[38;5;241m=\u001b[39m\u001b[38;5;28mself\u001b[39m,\n\u001b[0;32m   8871\u001b[0m     keys\u001b[38;5;241m=\u001b[39mby,\n\u001b[0;32m   8872\u001b[0m     axis\u001b[38;5;241m=\u001b[39maxis,\n\u001b[0;32m   8873\u001b[0m     level\u001b[38;5;241m=\u001b[39mlevel,\n\u001b[0;32m   8874\u001b[0m     as_index\u001b[38;5;241m=\u001b[39mas_index,\n\u001b[0;32m   8875\u001b[0m     sort\u001b[38;5;241m=\u001b[39msort,\n\u001b[0;32m   8876\u001b[0m     group_keys\u001b[38;5;241m=\u001b[39mgroup_keys,\n\u001b[0;32m   8877\u001b[0m     observed\u001b[38;5;241m=\u001b[39mobserved,\n\u001b[0;32m   8878\u001b[0m     dropna\u001b[38;5;241m=\u001b[39mdropna,\n\u001b[0;32m   8879\u001b[0m )\n",
      "File \u001b[1;32m~\\anaconda3\\Lib\\site-packages\\pandas\\core\\groupby\\groupby.py:1278\u001b[0m, in \u001b[0;36mGroupBy.__init__\u001b[1;34m(self, obj, keys, axis, level, grouper, exclusions, selection, as_index, sort, group_keys, observed, dropna)\u001b[0m\n\u001b[0;32m   1275\u001b[0m \u001b[38;5;28mself\u001b[39m\u001b[38;5;241m.\u001b[39mdropna \u001b[38;5;241m=\u001b[39m dropna\n\u001b[0;32m   1277\u001b[0m \u001b[38;5;28;01mif\u001b[39;00m grouper \u001b[38;5;129;01mis\u001b[39;00m \u001b[38;5;28;01mNone\u001b[39;00m:\n\u001b[1;32m-> 1278\u001b[0m     grouper, exclusions, obj \u001b[38;5;241m=\u001b[39m get_grouper(\n\u001b[0;32m   1279\u001b[0m         obj,\n\u001b[0;32m   1280\u001b[0m         keys,\n\u001b[0;32m   1281\u001b[0m         axis\u001b[38;5;241m=\u001b[39maxis,\n\u001b[0;32m   1282\u001b[0m         level\u001b[38;5;241m=\u001b[39mlevel,\n\u001b[0;32m   1283\u001b[0m         sort\u001b[38;5;241m=\u001b[39msort,\n\u001b[0;32m   1284\u001b[0m         observed\u001b[38;5;241m=\u001b[39m\u001b[38;5;28;01mFalse\u001b[39;00m \u001b[38;5;28;01mif\u001b[39;00m observed \u001b[38;5;129;01mis\u001b[39;00m lib\u001b[38;5;241m.\u001b[39mno_default \u001b[38;5;28;01melse\u001b[39;00m observed,\n\u001b[0;32m   1285\u001b[0m         dropna\u001b[38;5;241m=\u001b[39m\u001b[38;5;28mself\u001b[39m\u001b[38;5;241m.\u001b[39mdropna,\n\u001b[0;32m   1286\u001b[0m     )\n\u001b[0;32m   1288\u001b[0m \u001b[38;5;28;01mif\u001b[39;00m observed \u001b[38;5;129;01mis\u001b[39;00m lib\u001b[38;5;241m.\u001b[39mno_default:\n\u001b[0;32m   1289\u001b[0m     \u001b[38;5;28;01mif\u001b[39;00m \u001b[38;5;28many\u001b[39m(ping\u001b[38;5;241m.\u001b[39m_passed_categorical \u001b[38;5;28;01mfor\u001b[39;00m ping \u001b[38;5;129;01min\u001b[39;00m grouper\u001b[38;5;241m.\u001b[39mgroupings):\n",
      "File \u001b[1;32m~\\anaconda3\\Lib\\site-packages\\pandas\\core\\groupby\\grouper.py:1009\u001b[0m, in \u001b[0;36mget_grouper\u001b[1;34m(obj, key, axis, level, sort, observed, validate, dropna)\u001b[0m\n\u001b[0;32m   1007\u001b[0m         in_axis, level, gpr \u001b[38;5;241m=\u001b[39m \u001b[38;5;28;01mFalse\u001b[39;00m, gpr, \u001b[38;5;28;01mNone\u001b[39;00m\n\u001b[0;32m   1008\u001b[0m     \u001b[38;5;28;01melse\u001b[39;00m:\n\u001b[1;32m-> 1009\u001b[0m         \u001b[38;5;28;01mraise\u001b[39;00m \u001b[38;5;167;01mKeyError\u001b[39;00m(gpr)\n\u001b[0;32m   1010\u001b[0m \u001b[38;5;28;01melif\u001b[39;00m \u001b[38;5;28misinstance\u001b[39m(gpr, Grouper) \u001b[38;5;129;01mand\u001b[39;00m gpr\u001b[38;5;241m.\u001b[39mkey \u001b[38;5;129;01mis\u001b[39;00m \u001b[38;5;129;01mnot\u001b[39;00m \u001b[38;5;28;01mNone\u001b[39;00m:\n\u001b[0;32m   1011\u001b[0m     \u001b[38;5;66;03m# Add key to exclusions\u001b[39;00m\n\u001b[0;32m   1012\u001b[0m     exclusions\u001b[38;5;241m.\u001b[39madd(gpr\u001b[38;5;241m.\u001b[39mkey)\n",
      "\u001b[1;31mKeyError\u001b[0m: 'YearMonth'"
     ]
    }
   ],
   "source": [
    "df.groupby('YearMonth')['net_xyz_vs_other_card'].sum().plot(kind='bar')"
   ]
  },
  {
   "cell_type": "code",
   "execution_count": 46,
   "id": "087bf8be-b027-43d7-a512-b6ae5232f182",
   "metadata": {},
   "outputs": [
    {
     "name": "stdout",
     "output_type": "stream",
     "text": [
      "datetime64[ns]\n"
     ]
    }
   ],
   "source": [
    "print(df['Transaction Date'].dtype)\n"
   ]
  },
  {
   "cell_type": "code",
   "execution_count": 47,
   "id": "e020bb15-ad0a-4386-8f4f-643e01c0ba89",
   "metadata": {},
   "outputs": [],
   "source": [
    "# Create a new column for Year-Month period\n",
    "df['YearMonth'] = df['Transaction Date'].dt.to_period('M')\n"
   ]
  },
  {
   "cell_type": "code",
   "execution_count": 48,
   "id": "e09df472-f92c-4ce6-ac36-965f2e907619",
   "metadata": {},
   "outputs": [
    {
     "data": {
      "text/plain": [
       "<Axes: xlabel='YearMonth'>"
      ]
     },
     "execution_count": 48,
     "metadata": {},
     "output_type": "execute_result"
    },
    {
     "data": {
      "image/png": "[encoded data removed]",
      "text/plain": [
       "<Figure size 640x480 with 1 Axes>"
      ]
     },
     "metadata": {},
     "output_type": "display_data"
    }
   ],
   "source": [
    "df.groupby('YearMonth')['net_xyz_vs_other_card'].sum().plot(kind='bar')"
   ]
  },
  {
   "cell_type": "code",
   "execution_count": 49,
   "id": "054d4b9f-a3ca-4d8a-9fca-04c050540cb1",
   "metadata": {},
   "outputs": [
    {
     "data": {
      "image/png": "[encoded data removed]",
      "text/plain": [
       "<Figure size 1600x600 with 1 Axes>"
      ]
     },
     "metadata": {},
     "output_type": "display_data"
    }
   ],
   "source": [
    "import matplotlib.pyplot as plt\n",
    "\n",
    "# Convert period to string for plotting\n",
    "df['YearMonth_str'] = df['YearMonth'].astype(str)\n",
    "\n",
    "plt.figure(figsize=(16,6))  # bigger figure\n",
    "(\n",
    "    df.groupby('YearMonth_str')['net_xyz_vs_other_card']\n",
    "      .sum()\n",
    "      .plot(kind='bar', color='steelblue')\n",
    ")\n",
    "\n",
    "plt.xticks(rotation=45, ha='right')     # rotate labels\n",
    "plt.tight_layout()                      # adjust layout\n",
    "plt.xlabel('Year-Month')\n",
    "plt.ylabel('Net XYZ vs Other Card')\n",
    "plt.title('Monthly Net XYZ vs Other Card Withdrawals')\n",
    "plt.show()\n"
   ]
  },
  {
   "cell_type": "code",
   "execution_count": 50,
   "id": "96b2a30e-422b-43e7-9ec9-5f22f2575151",
   "metadata": {},
   "outputs": [
    {
     "data": {
      "image/png": "[encoded data removed]",
      "text/plain": [
       "<Figure size 1600x600 with 1 Axes>"
      ]
     },
     "metadata": {},
     "output_type": "display_data"
    }
   ],
   "source": [
    "# NOW it is more redable \n",
    "\n",
    "\n",
    "ax = df.groupby('YearMonth_str')['net_xyz_vs_other_card'].sum().plot(kind='bar', figsize=(16,6))\n",
    "ax.set_xticklabels(ax.get_xticklabels(), rotation=45, ha='right')\n",
    "for label in ax.get_xticklabels()[::2]:  # hide every 2nd label\n",
    "    label.set_visible(False)\n"
   ]
  },
  {
   "cell_type": "code",
   "execution_count": 42,
   "id": "d88b7882-def2-4300-94d1-82efb4c6136c",
   "metadata": {},
   "outputs": [
    {
     "data": {
      "text/plain": [
       "ATM Name\n",
       "Big Street ATM       -32.767896\n",
       "Christ College ATM   -29.718884\n",
       "Mount Road ATM        -9.838202\n",
       "Airport ATM           45.671249\n",
       "KK Nagar ATM          74.468085\n",
       "Name: net_xyz_vs_other_card, dtype: float64"
      ]
     },
     "execution_count": 42,
     "metadata": {},
     "output_type": "execute_result"
    }
   ],
   "source": [
    "# Compare by ATM location\n",
    "\n",
    "df.groupby('ATM Name')['net_xyz_vs_other_card'].mean().sort_values()"
   ]
  },
  {
   "cell_type": "code",
   "execution_count": null,
   "id": "445c9e7d-1dc1-4edd-8cc0-75cb4ab3c036",
   "metadata": {},
   "outputs": [],
   "source": []
  },
  {
   "cell_type": "code",
   "execution_count": 43,
   "id": "a6e718b5-fd80-4c9b-a297-7aa8d73a4a39",
   "metadata": {},
   "outputs": [
    {
     "data": {
      "text/plain": [
       "Festival Religion\n",
       "Christain_festival    9.333333\n",
       "Hindu_festival        0.333333\n",
       "Muslim_festivals      3.000000\n",
       "National_holiday      9.856605\n",
       "Normal_Day            5.626374\n",
       "Name: net_xyz_vs_other_card, dtype: float64"
      ]
     },
     "execution_count": 43,
     "metadata": {},
     "output_type": "execute_result"
    }
   ],
   "source": [
    "# Compare by festival vs. normal days\n",
    "df.groupby('Festival Religion')['net_xyz_vs_other_card'].mean()"
   ]
  },
  {
   "cell_type": "code",
   "execution_count": 52,
   "id": "39ea8e7c-dd3d-4130-b06d-6332285b5f5f",
   "metadata": {},
   "outputs": [],
   "source": [
    "# saving the cleaning data \n",
    "\n",
    "df.to_csv(r\"C:\\Users\\asus\\Downloads\\Bank_dataset\\cleaned_transactions.csv\", index = False)"
   ]
  },
  {
   "cell_type": "code",
   "execution_count": null,
   "id": "c7cf7c9a-ddc8-417b-8c7a-cec4a630c2fa",
   "metadata": {},
   "outputs": [],
   "source": []
  }
 ],
 "metadata": {
  "kernelspec": {
   "display_name": "Python 3 (ipykernel)",
   "language": "python",
   "name": "python3"
  },
  "language_info": {
   "codemirror_mode": {
    "name": "ipython",
    "version": 3
   },
   "file_extension": ".py",
   "mimetype": "text/x-python",
   "name": "python",
   "nbconvert_exporter": "python",
   "pygments_lexer": "ipython3",
   "version": "3.11.7"
  }
 },
 "nbformat": 4,
 "nbformat_minor": 5
}
